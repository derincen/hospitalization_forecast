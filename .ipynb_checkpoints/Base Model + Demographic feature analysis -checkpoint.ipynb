{
 "cells": [
  {
   "cell_type": "code",
   "execution_count": 112,
   "metadata": {
    "collapsed": true
   },
   "outputs": [],
   "source": [
    "%matplotlib inline\n",
    "import pandas as pd\n",
    "import matplotlib.pyplot as plt\n",
    "import numpy as np\n",
    "import sklearn.model_selection as model_selection"
   ]
  },
  {
   "cell_type": "code",
   "execution_count": 113,
   "metadata": {},
   "outputs": [],
   "source": [
    "data = pd.read_csv('../preprocessed_data.csv', index_col=0)"
   ]
  },
  {
   "cell_type": "code",
   "execution_count": 114,
   "metadata": {},
   "outputs": [
    {
     "data": {
      "text/html": [
       "<div>\n",
       "<style>\n",
       "    .dataframe thead tr:only-child th {\n",
       "        text-align: right;\n",
       "    }\n",
       "\n",
       "    .dataframe thead th {\n",
       "        text-align: left;\n",
       "    }\n",
       "\n",
       "    .dataframe tbody tr th {\n",
       "        vertical-align: top;\n",
       "    }\n",
       "</style>\n",
       "<table border=\"1\" class=\"dataframe\">\n",
       "  <thead>\n",
       "    <tr style=\"text-align: right;\">\n",
       "      <th></th>\n",
       "      <th>DESYNPUF_ID</th>\n",
       "      <th>BENE_BIRTH_DT</th>\n",
       "      <th>BENE_DEATH_DT</th>\n",
       "      <th>BENE_SEX_IDENT_CD</th>\n",
       "      <th>BENE_RACE_CD</th>\n",
       "      <th>SP_STATE_CODE</th>\n",
       "      <th>BENE_COUNTY_CD</th>\n",
       "      <th>SP_ALZHDMTA</th>\n",
       "      <th>SP_CHF</th>\n",
       "      <th>SP_CHRNKIDN</th>\n",
       "      <th>...</th>\n",
       "      <th>SP_OSTEOPRS</th>\n",
       "      <th>SP_RA_OA</th>\n",
       "      <th>SP_STRKETIA</th>\n",
       "      <th>MEDREIMB_OP</th>\n",
       "      <th>BENRES_OP</th>\n",
       "      <th>PPPYMT_OP</th>\n",
       "      <th>DEATH</th>\n",
       "      <th>CLM_ADMSN_DT</th>\n",
       "      <th>Y</th>\n",
       "      <th>fst_admsn_dt</th>\n",
       "    </tr>\n",
       "  </thead>\n",
       "  <tbody>\n",
       "    <tr>\n",
       "      <th>0</th>\n",
       "      <td>00000B48BCF4AD29</td>\n",
       "      <td>19230901</td>\n",
       "      <td>NaN</td>\n",
       "      <td>2</td>\n",
       "      <td>5</td>\n",
       "      <td>10</td>\n",
       "      <td>260</td>\n",
       "      <td>2</td>\n",
       "      <td>1</td>\n",
       "      <td>2</td>\n",
       "      <td>...</td>\n",
       "      <td>2</td>\n",
       "      <td>2</td>\n",
       "      <td>2</td>\n",
       "      <td>600.0</td>\n",
       "      <td>30.0</td>\n",
       "      <td>0.0</td>\n",
       "      <td>0</td>\n",
       "      <td>20080707.0</td>\n",
       "      <td>0</td>\n",
       "      <td>NaN</td>\n",
       "    </tr>\n",
       "    <tr>\n",
       "      <th>1</th>\n",
       "      <td>00000B48BCF4AD29</td>\n",
       "      <td>19230901</td>\n",
       "      <td>NaN</td>\n",
       "      <td>2</td>\n",
       "      <td>5</td>\n",
       "      <td>10</td>\n",
       "      <td>260</td>\n",
       "      <td>2</td>\n",
       "      <td>1</td>\n",
       "      <td>2</td>\n",
       "      <td>...</td>\n",
       "      <td>2</td>\n",
       "      <td>2</td>\n",
       "      <td>2</td>\n",
       "      <td>600.0</td>\n",
       "      <td>30.0</td>\n",
       "      <td>0.0</td>\n",
       "      <td>0</td>\n",
       "      <td>20080724.0</td>\n",
       "      <td>0</td>\n",
       "      <td>NaN</td>\n",
       "    </tr>\n",
       "    <tr>\n",
       "      <th>2</th>\n",
       "      <td>00000B48BCF4AD29</td>\n",
       "      <td>19230901</td>\n",
       "      <td>NaN</td>\n",
       "      <td>2</td>\n",
       "      <td>5</td>\n",
       "      <td>10</td>\n",
       "      <td>260</td>\n",
       "      <td>2</td>\n",
       "      <td>1</td>\n",
       "      <td>2</td>\n",
       "      <td>...</td>\n",
       "      <td>2</td>\n",
       "      <td>2</td>\n",
       "      <td>2</td>\n",
       "      <td>600.0</td>\n",
       "      <td>30.0</td>\n",
       "      <td>0.0</td>\n",
       "      <td>0</td>\n",
       "      <td>20080805.0</td>\n",
       "      <td>0</td>\n",
       "      <td>NaN</td>\n",
       "    </tr>\n",
       "    <tr>\n",
       "      <th>3</th>\n",
       "      <td>0000525AB30E4DEF</td>\n",
       "      <td>19201001</td>\n",
       "      <td>NaN</td>\n",
       "      <td>2</td>\n",
       "      <td>1</td>\n",
       "      <td>31</td>\n",
       "      <td>300</td>\n",
       "      <td>2</td>\n",
       "      <td>2</td>\n",
       "      <td>2</td>\n",
       "      <td>...</td>\n",
       "      <td>2</td>\n",
       "      <td>2</td>\n",
       "      <td>2</td>\n",
       "      <td>240.0</td>\n",
       "      <td>190.0</td>\n",
       "      <td>0.0</td>\n",
       "      <td>0</td>\n",
       "      <td>20080525.0</td>\n",
       "      <td>0</td>\n",
       "      <td>NaN</td>\n",
       "    </tr>\n",
       "    <tr>\n",
       "      <th>4</th>\n",
       "      <td>0000525AB30E4DEF</td>\n",
       "      <td>19201001</td>\n",
       "      <td>NaN</td>\n",
       "      <td>2</td>\n",
       "      <td>1</td>\n",
       "      <td>31</td>\n",
       "      <td>300</td>\n",
       "      <td>2</td>\n",
       "      <td>2</td>\n",
       "      <td>2</td>\n",
       "      <td>...</td>\n",
       "      <td>2</td>\n",
       "      <td>2</td>\n",
       "      <td>2</td>\n",
       "      <td>240.0</td>\n",
       "      <td>190.0</td>\n",
       "      <td>0.0</td>\n",
       "      <td>0</td>\n",
       "      <td>20080918.0</td>\n",
       "      <td>0</td>\n",
       "      <td>NaN</td>\n",
       "    </tr>\n",
       "  </tbody>\n",
       "</table>\n",
       "<p>5 rows × 25 columns</p>\n",
       "</div>"
      ],
      "text/plain": [
       "        DESYNPUF_ID  BENE_BIRTH_DT  BENE_DEATH_DT  BENE_SEX_IDENT_CD  \\\n",
       "0  00000B48BCF4AD29       19230901            NaN                  2   \n",
       "1  00000B48BCF4AD29       19230901            NaN                  2   \n",
       "2  00000B48BCF4AD29       19230901            NaN                  2   \n",
       "3  0000525AB30E4DEF       19201001            NaN                  2   \n",
       "4  0000525AB30E4DEF       19201001            NaN                  2   \n",
       "\n",
       "   BENE_RACE_CD  SP_STATE_CODE  BENE_COUNTY_CD  SP_ALZHDMTA  SP_CHF  \\\n",
       "0             5             10             260            2       1   \n",
       "1             5             10             260            2       1   \n",
       "2             5             10             260            2       1   \n",
       "3             1             31             300            2       2   \n",
       "4             1             31             300            2       2   \n",
       "\n",
       "   SP_CHRNKIDN      ...       SP_OSTEOPRS  SP_RA_OA  SP_STRKETIA  MEDREIMB_OP  \\\n",
       "0            2      ...                 2         2            2        600.0   \n",
       "1            2      ...                 2         2            2        600.0   \n",
       "2            2      ...                 2         2            2        600.0   \n",
       "3            2      ...                 2         2            2        240.0   \n",
       "4            2      ...                 2         2            2        240.0   \n",
       "\n",
       "   BENRES_OP  PPPYMT_OP  DEATH  CLM_ADMSN_DT  Y  fst_admsn_dt  \n",
       "0       30.0        0.0      0    20080707.0  0           NaN  \n",
       "1       30.0        0.0      0    20080724.0  0           NaN  \n",
       "2       30.0        0.0      0    20080805.0  0           NaN  \n",
       "3      190.0        0.0      0    20080525.0  0           NaN  \n",
       "4      190.0        0.0      0    20080918.0  0           NaN  \n",
       "\n",
       "[5 rows x 25 columns]"
      ]
     },
     "execution_count": 114,
     "metadata": {},
     "output_type": "execute_result"
    }
   ],
   "source": [
    "data.head()"
   ]
  },
  {
   "cell_type": "code",
   "execution_count": 115,
   "metadata": {},
   "outputs": [],
   "source": [
    "working_data = data.drop_duplicates(['DESYNPUF_ID'])"
   ]
  },
  {
   "cell_type": "code",
   "execution_count": 116,
   "metadata": {
    "collapsed": true
   },
   "outputs": [],
   "source": [
    "#prevent data leakage\n",
    "working_data = working_data.drop(['DESYNPUF_ID','CLM_ADMSN_DT', 'fst_admsn_dt', 'MEDREIMB_OP', 'BENRES_OP', 'PPPYMT_OP', \n",
    "                         'BENE_DEATH_DT', 'DEATH'], axis=1)"
   ]
  },
  {
   "cell_type": "code",
   "execution_count": 117,
   "metadata": {},
   "outputs": [
    {
     "data": {
      "text/html": [
       "<div>\n",
       "<style>\n",
       "    .dataframe thead tr:only-child th {\n",
       "        text-align: right;\n",
       "    }\n",
       "\n",
       "    .dataframe thead th {\n",
       "        text-align: left;\n",
       "    }\n",
       "\n",
       "    .dataframe tbody tr th {\n",
       "        vertical-align: top;\n",
       "    }\n",
       "</style>\n",
       "<table border=\"1\" class=\"dataframe\">\n",
       "  <thead>\n",
       "    <tr style=\"text-align: right;\">\n",
       "      <th></th>\n",
       "      <th>BENE_BIRTH_DT</th>\n",
       "      <th>BENE_SEX_IDENT_CD</th>\n",
       "      <th>BENE_RACE_CD</th>\n",
       "      <th>SP_STATE_CODE</th>\n",
       "      <th>BENE_COUNTY_CD</th>\n",
       "      <th>SP_ALZHDMTA</th>\n",
       "      <th>SP_CHF</th>\n",
       "      <th>SP_CHRNKIDN</th>\n",
       "      <th>SP_CNCR</th>\n",
       "      <th>SP_COPD</th>\n",
       "      <th>SP_DEPRESSN</th>\n",
       "      <th>SP_DIABETES</th>\n",
       "      <th>SP_ISCHMCHT</th>\n",
       "      <th>SP_OSTEOPRS</th>\n",
       "      <th>SP_RA_OA</th>\n",
       "      <th>SP_STRKETIA</th>\n",
       "      <th>Y</th>\n",
       "    </tr>\n",
       "  </thead>\n",
       "  <tbody>\n",
       "    <tr>\n",
       "      <th>count</th>\n",
       "      <td>1.128450e+05</td>\n",
       "      <td>112845.000000</td>\n",
       "      <td>112845.000000</td>\n",
       "      <td>112845.000000</td>\n",
       "      <td>112845.000000</td>\n",
       "      <td>112845.000000</td>\n",
       "      <td>112845.000000</td>\n",
       "      <td>112845.000000</td>\n",
       "      <td>112845.000000</td>\n",
       "      <td>112845.000000</td>\n",
       "      <td>112845.000000</td>\n",
       "      <td>112845.000000</td>\n",
       "      <td>112845.000000</td>\n",
       "      <td>112845.000000</td>\n",
       "      <td>112845.000000</td>\n",
       "      <td>112845.000000</td>\n",
       "      <td>112845.000000</td>\n",
       "    </tr>\n",
       "    <tr>\n",
       "      <th>mean</th>\n",
       "      <td>1.936439e+07</td>\n",
       "      <td>1.557251</td>\n",
       "      <td>1.283708</td>\n",
       "      <td>25.725048</td>\n",
       "      <td>366.079268</td>\n",
       "      <td>1.831929</td>\n",
       "      <td>1.742124</td>\n",
       "      <td>1.861403</td>\n",
       "      <td>1.948212</td>\n",
       "      <td>1.910904</td>\n",
       "      <td>1.821188</td>\n",
       "      <td>1.708760</td>\n",
       "      <td>1.623918</td>\n",
       "      <td>1.868900</td>\n",
       "      <td>1.902849</td>\n",
       "      <td>1.973530</td>\n",
       "      <td>0.072382</td>\n",
       "    </tr>\n",
       "    <tr>\n",
       "      <th>std</th>\n",
       "      <td>1.258994e+05</td>\n",
       "      <td>0.496714</td>\n",
       "      <td>0.753121</td>\n",
       "      <td>15.519775</td>\n",
       "      <td>266.004435</td>\n",
       "      <td>0.373931</td>\n",
       "      <td>0.437467</td>\n",
       "      <td>0.345527</td>\n",
       "      <td>0.221599</td>\n",
       "      <td>0.284883</td>\n",
       "      <td>0.383196</td>\n",
       "      <td>0.454336</td>\n",
       "      <td>0.484403</td>\n",
       "      <td>0.337511</td>\n",
       "      <td>0.296165</td>\n",
       "      <td>0.160529</td>\n",
       "      <td>0.259121</td>\n",
       "    </tr>\n",
       "    <tr>\n",
       "      <th>min</th>\n",
       "      <td>1.909010e+07</td>\n",
       "      <td>1.000000</td>\n",
       "      <td>1.000000</td>\n",
       "      <td>1.000000</td>\n",
       "      <td>0.000000</td>\n",
       "      <td>1.000000</td>\n",
       "      <td>1.000000</td>\n",
       "      <td>1.000000</td>\n",
       "      <td>1.000000</td>\n",
       "      <td>1.000000</td>\n",
       "      <td>1.000000</td>\n",
       "      <td>1.000000</td>\n",
       "      <td>1.000000</td>\n",
       "      <td>1.000000</td>\n",
       "      <td>1.000000</td>\n",
       "      <td>1.000000</td>\n",
       "      <td>0.000000</td>\n",
       "    </tr>\n",
       "    <tr>\n",
       "      <th>25%</th>\n",
       "      <td>1.928110e+07</td>\n",
       "      <td>1.000000</td>\n",
       "      <td>1.000000</td>\n",
       "      <td>11.000000</td>\n",
       "      <td>141.000000</td>\n",
       "      <td>2.000000</td>\n",
       "      <td>1.000000</td>\n",
       "      <td>2.000000</td>\n",
       "      <td>2.000000</td>\n",
       "      <td>2.000000</td>\n",
       "      <td>2.000000</td>\n",
       "      <td>1.000000</td>\n",
       "      <td>1.000000</td>\n",
       "      <td>2.000000</td>\n",
       "      <td>2.000000</td>\n",
       "      <td>2.000000</td>\n",
       "      <td>0.000000</td>\n",
       "    </tr>\n",
       "    <tr>\n",
       "      <th>50%</th>\n",
       "      <td>1.936060e+07</td>\n",
       "      <td>2.000000</td>\n",
       "      <td>1.000000</td>\n",
       "      <td>25.000000</td>\n",
       "      <td>330.000000</td>\n",
       "      <td>2.000000</td>\n",
       "      <td>2.000000</td>\n",
       "      <td>2.000000</td>\n",
       "      <td>2.000000</td>\n",
       "      <td>2.000000</td>\n",
       "      <td>2.000000</td>\n",
       "      <td>2.000000</td>\n",
       "      <td>2.000000</td>\n",
       "      <td>2.000000</td>\n",
       "      <td>2.000000</td>\n",
       "      <td>2.000000</td>\n",
       "      <td>0.000000</td>\n",
       "    </tr>\n",
       "    <tr>\n",
       "      <th>75%</th>\n",
       "      <td>1.942030e+07</td>\n",
       "      <td>2.000000</td>\n",
       "      <td>1.000000</td>\n",
       "      <td>39.000000</td>\n",
       "      <td>551.000000</td>\n",
       "      <td>2.000000</td>\n",
       "      <td>2.000000</td>\n",
       "      <td>2.000000</td>\n",
       "      <td>2.000000</td>\n",
       "      <td>2.000000</td>\n",
       "      <td>2.000000</td>\n",
       "      <td>2.000000</td>\n",
       "      <td>2.000000</td>\n",
       "      <td>2.000000</td>\n",
       "      <td>2.000000</td>\n",
       "      <td>2.000000</td>\n",
       "      <td>0.000000</td>\n",
       "    </tr>\n",
       "    <tr>\n",
       "      <th>max</th>\n",
       "      <td>1.983120e+07</td>\n",
       "      <td>2.000000</td>\n",
       "      <td>5.000000</td>\n",
       "      <td>54.000000</td>\n",
       "      <td>999.000000</td>\n",
       "      <td>2.000000</td>\n",
       "      <td>2.000000</td>\n",
       "      <td>2.000000</td>\n",
       "      <td>2.000000</td>\n",
       "      <td>2.000000</td>\n",
       "      <td>2.000000</td>\n",
       "      <td>2.000000</td>\n",
       "      <td>2.000000</td>\n",
       "      <td>2.000000</td>\n",
       "      <td>2.000000</td>\n",
       "      <td>2.000000</td>\n",
       "      <td>1.000000</td>\n",
       "    </tr>\n",
       "  </tbody>\n",
       "</table>\n",
       "</div>"
      ],
      "text/plain": [
       "       BENE_BIRTH_DT  BENE_SEX_IDENT_CD   BENE_RACE_CD  SP_STATE_CODE  \\\n",
       "count   1.128450e+05      112845.000000  112845.000000  112845.000000   \n",
       "mean    1.936439e+07           1.557251       1.283708      25.725048   \n",
       "std     1.258994e+05           0.496714       0.753121      15.519775   \n",
       "min     1.909010e+07           1.000000       1.000000       1.000000   \n",
       "25%     1.928110e+07           1.000000       1.000000      11.000000   \n",
       "50%     1.936060e+07           2.000000       1.000000      25.000000   \n",
       "75%     1.942030e+07           2.000000       1.000000      39.000000   \n",
       "max     1.983120e+07           2.000000       5.000000      54.000000   \n",
       "\n",
       "       BENE_COUNTY_CD    SP_ALZHDMTA         SP_CHF    SP_CHRNKIDN  \\\n",
       "count   112845.000000  112845.000000  112845.000000  112845.000000   \n",
       "mean       366.079268       1.831929       1.742124       1.861403   \n",
       "std        266.004435       0.373931       0.437467       0.345527   \n",
       "min          0.000000       1.000000       1.000000       1.000000   \n",
       "25%        141.000000       2.000000       1.000000       2.000000   \n",
       "50%        330.000000       2.000000       2.000000       2.000000   \n",
       "75%        551.000000       2.000000       2.000000       2.000000   \n",
       "max        999.000000       2.000000       2.000000       2.000000   \n",
       "\n",
       "             SP_CNCR        SP_COPD    SP_DEPRESSN    SP_DIABETES  \\\n",
       "count  112845.000000  112845.000000  112845.000000  112845.000000   \n",
       "mean        1.948212       1.910904       1.821188       1.708760   \n",
       "std         0.221599       0.284883       0.383196       0.454336   \n",
       "min         1.000000       1.000000       1.000000       1.000000   \n",
       "25%         2.000000       2.000000       2.000000       1.000000   \n",
       "50%         2.000000       2.000000       2.000000       2.000000   \n",
       "75%         2.000000       2.000000       2.000000       2.000000   \n",
       "max         2.000000       2.000000       2.000000       2.000000   \n",
       "\n",
       "         SP_ISCHMCHT    SP_OSTEOPRS       SP_RA_OA    SP_STRKETIA  \\\n",
       "count  112845.000000  112845.000000  112845.000000  112845.000000   \n",
       "mean        1.623918       1.868900       1.902849       1.973530   \n",
       "std         0.484403       0.337511       0.296165       0.160529   \n",
       "min         1.000000       1.000000       1.000000       1.000000   \n",
       "25%         1.000000       2.000000       2.000000       2.000000   \n",
       "50%         2.000000       2.000000       2.000000       2.000000   \n",
       "75%         2.000000       2.000000       2.000000       2.000000   \n",
       "max         2.000000       2.000000       2.000000       2.000000   \n",
       "\n",
       "                   Y  \n",
       "count  112845.000000  \n",
       "mean        0.072382  \n",
       "std         0.259121  \n",
       "min         0.000000  \n",
       "25%         0.000000  \n",
       "50%         0.000000  \n",
       "75%         0.000000  \n",
       "max         1.000000  "
      ]
     },
     "execution_count": 117,
     "metadata": {},
     "output_type": "execute_result"
    }
   ],
   "source": [
    "working_data.describe()"
   ]
  },
  {
   "cell_type": "markdown",
   "metadata": {},
   "source": [
    "Variable descriptions:\n",
    "\n",
    "Sex_Ident: 1 = Male, 2= Female\n",
    "Race: 1 = White, 2 = Black, 3 = Others, 4 = Hispanic\n",
    "Binary variables: 1 = Yes, 2 = No \n"
   ]
  },
  {
   "cell_type": "code",
   "execution_count": 118,
   "metadata": {},
   "outputs": [
    {
     "name": "stderr",
     "output_type": "stream",
     "text": [
      "/Users/ksenia/anaconda/envs/py36/lib/python3.6/site-packages/IPython/core/interactiveshell.py:2881: UserWarning: To output multiple subplots, the figure containing the passed axes is being cleared\n",
      "  exec(code_obj, self.user_global_ns, self.user_ns)\n"
     ]
    },
    {
     "data": {
      "image/png": "[encoded data removed]",
      "text/plain": [
       "<matplotlib.figure.Figure at 0x128a9aac8>"
      ]
     },
     "metadata": {},
     "output_type": "display_data"
    }
   ],
   "source": [
    "#Plot histograms of all features\n",
    "fig = plt.figure(figsize = (15,20))\n",
    "ax = fig.gca()\n",
    "working_data.hist(ax = ax)\n",
    "plt.show()"
   ]
  },
  {
   "cell_type": "code",
   "execution_count": 119,
   "metadata": {},
   "outputs": [
    {
     "name": "stdout",
     "output_type": "stream",
     "text": [
      "Y                    1.000000\n",
      "BENE_SEX_IDENT_CD    0.008494\n",
      "BENE_COUNTY_CD       0.006995\n",
      "SP_STATE_CODE        0.002646\n",
      "BENE_BIRTH_DT       -0.001851\n",
      "BENE_RACE_CD        -0.011004\n",
      "SP_OSTEOPRS         -0.070542\n",
      "SP_RA_OA            -0.071879\n",
      "SP_CNCR             -0.081486\n",
      "SP_DEPRESSN         -0.095626\n",
      "SP_STRKETIA         -0.098594\n",
      "SP_ALZHDMTA         -0.110317\n",
      "SP_CHF              -0.147727\n",
      "SP_COPD             -0.162696\n",
      "SP_ISCHMCHT         -0.163241\n",
      "SP_DIABETES         -0.165312\n",
      "SP_CHRNKIDN         -0.207451\n",
      "Name: Y, dtype: float64\n"
     ]
    }
   ],
   "source": [
    "c_mat = working_data.corr()\n",
    "print(c_mat['Y'].sort_values(ascending=False))"
   ]
  },
  {
   "cell_type": "markdown",
   "metadata": {},
   "source": [
    "Because our features show 2 for not having the disease, the correlations revealed a positive linear relationship between the patient having kidney disease and hospitalization (22%). Other strongest factors were diabetes (18%), ischemic heart disease (17%), and heart failure (16%). "
   ]
  },
  {
   "cell_type": "code",
   "execution_count": 120,
   "metadata": {},
   "outputs": [
    {
     "data": {
      "image/png": "[encoded data removed]",
      "text/plain": [
       "<matplotlib.figure.Figure at 0x116d3af28>"
      ]
     },
     "metadata": {},
     "output_type": "display_data"
    }
   ],
   "source": [
    "#Visualize correlations. Red signifies the strongest negative correlations\n",
    "\n",
    "for i in range(c_mat.shape[0]):\n",
    "    c_mat.iloc[i,i] = 0\n",
    " \n",
    "    \n",
    "fig, ax = plt.subplots(figsize = (20,10))\n",
    "heatmap = ax.pcolor(c_mat, cmap=plt.cm.RdBu)\n",
    "\n",
    "#Set the tick labels and center them\n",
    "ax.set_xticks(np.arange(c_mat.shape[0])+0.5, minor=False)\n",
    "ax.set_yticks(np.arange(c_mat.shape[1])+0.5, minor=False)\n",
    "ax.set_xticklabels(c_mat.index.values, minor=False)\n",
    "ax.set_yticklabels(c_mat.index.values, minor=False)\n",
    "\n",
    "heatmap.set_label('Pearson Correlation')\n",
    "\n",
    "plt.show()"
   ]
  },
  {
   "cell_type": "code",
   "execution_count": 121,
   "metadata": {
    "collapsed": true
   },
   "outputs": [],
   "source": [
    "#Split dataset into testing and training\n",
    "\n",
    "test, train = model_selection.train_test_split(working_data)\n",
    "\n",
    "train_Y = train.pop('Y')\n",
    "train_X = train\n",
    "\n",
    "test_Y = test.pop('Y')\n",
    "test_X = test\n"
   ]
  },
  {
   "cell_type": "code",
   "execution_count": 122,
   "metadata": {},
   "outputs": [
    {
     "name": "stdout",
     "output_type": "stream",
     "text": [
      "Base rate of forecast represented by always predicting not being hospitalized is:  0.927617528468253\n"
     ]
    }
   ],
   "source": [
    "#Base Rate: predicting negative all the time\n",
    "share_non_target = working_data[working_data.Y == 0].shape[0]/working_data.shape[0]\n",
    "\n",
    "base_rate = share_non_target\n",
    "\n",
    "print('Base rate of forecast represented by always predicting not being hospitalized is: ', str(base_rate))"
   ]
  },
  {
   "cell_type": "code",
   "execution_count": 123,
   "metadata": {},
   "outputs": [
    {
     "data": {
      "text/plain": [
       "DecisionTreeClassifier(class_weight=None, criterion='entropy', max_depth=None,\n",
       "            max_features=None, max_leaf_nodes=None,\n",
       "            min_impurity_split=1e-07, min_samples_leaf=1,\n",
       "            min_samples_split=2, min_weight_fraction_leaf=0.0,\n",
       "            presort=False, random_state=None, splitter='best')"
      ]
     },
     "execution_count": 123,
     "metadata": {},
     "output_type": "execute_result"
    }
   ],
   "source": [
    "#Let's test features with a decision tree\n",
    "\n",
    "from sklearn import tree\n",
    "\n",
    "#Create a Decision Tree instance\n",
    "clf = tree.DecisionTreeClassifier(criterion='entropy')\n",
    "\n",
    "#Train decision tree\n",
    "clf.fit(train_X, train_Y)\n",
    "\n"
   ]
  },
  {
   "cell_type": "code",
   "execution_count": 124,
   "metadata": {},
   "outputs": [
    {
     "data": {
      "text/plain": [
       "Index(['BENE_BIRTH_DT', 'BENE_SEX_IDENT_CD', 'BENE_RACE_CD', 'SP_STATE_CODE',\n",
       "       'BENE_COUNTY_CD', 'SP_ALZHDMTA', 'SP_CHF', 'SP_CHRNKIDN', 'SP_CNCR',\n",
       "       'SP_COPD', 'SP_DEPRESSN', 'SP_DIABETES', 'SP_ISCHMCHT', 'SP_OSTEOPRS',\n",
       "       'SP_RA_OA', 'SP_STRKETIA'],\n",
       "      dtype='object')"
      ]
     },
     "execution_count": 124,
     "metadata": {},
     "output_type": "execute_result"
    }
   ],
   "source": [
    "labels = working_data.columns[:-1]\n",
    "labels"
   ]
  },
  {
   "cell_type": "code",
   "execution_count": 125,
   "metadata": {},
   "outputs": [
    {
     "name": "stdout",
     "output_type": "stream",
     "text": [
      "[ 0.28096534  0.03125126  0.02801067  0.15663221  0.20234934  0.02099583\n",
      "  0.01454577  0.06625397  0.01736522  0.02351731  0.02513202  0.03659679\n",
      "  0.03899794  0.01926979  0.02300084  0.0151157 ]\n"
     ]
    },
    {
     "data": {
      "image/png": "[encoded data removed]",
      "text/plain": [
       "<matplotlib.figure.Figure at 0x128ab4550>"
      ]
     },
     "metadata": {},
     "output_type": "display_data"
    }
   ],
   "source": [
    "#Visualize feature importance\n",
    "import matplotlib.pyplot as plt\n",
    "%matplotlib inline\n",
    "\n",
    "importances = clf.feature_importances_\n",
    "#print(len(importances))\n",
    "\n",
    "labels = working_data.columns[:-1]\n",
    "\n",
    "assert(len(importances) == len(labels))\n",
    "\n",
    "print(importances)\n",
    "\n",
    "#Sort and order importances in descending order\n",
    "importances.sort()\n",
    "importances = importances[::-1]\n",
    "\n",
    "N = len(importances)\n",
    "xx = np.linspace(0, 1, N)\n",
    "plt.bar(xx, importances, width=1/N/1.5)\n",
    "plt.xticks(xx, labels, rotation='vertical')\n",
    "plt.title('Features by importance')\n",
    "plt.grid(True)"
   ]
  },
  {
   "cell_type": "markdown",
   "metadata": {},
   "source": [
    "Use a simple Decision Tree as a base model to improve upon."
   ]
  },
  {
   "cell_type": "code",
   "execution_count": 130,
   "metadata": {},
   "outputs": [
    {
     "name": "stdout",
     "output_type": "stream",
     "text": [
      "Train accuracy: 0.99996455409 \n",
      "Test accuracy: 0.872815568395 \n",
      "Difference: 0.127148985695\n",
      "Train recall:  0.999508599509 \n",
      "Test recall:  0.158812978966 \n",
      "Difference:  0.840695620542\n",
      "\n",
      "Train precision: 1.0 \n",
      "Test precision: 0.148046815625 \n",
      "Difference: 0.851953184375\n",
      "\n",
      "Test AUC:  0.543700494661\n"
     ]
    }
   ],
   "source": [
    "from sklearn import metrics\n",
    "\n",
    "#Predicting train_df\n",
    "fcst_train = clf.predict(train_X)\n",
    "\n",
    "#Predicting test_df\n",
    "fcst_test = clf.predict(test_X)\n",
    "\n",
    "train_accuracy = clf.score(train_X, train_Y)\n",
    "test_accuracy = clf.score(test_X, test_Y)\n",
    "\n",
    "train_recall = metrics.recall_score(train_Y, fcst_train)\n",
    "test_recall = metrics.recall_score(test_Y, fcst_test)\n",
    "\n",
    "train_precision = metrics.precision_score(train_Y, fcst_train)\n",
    "test_precision = metrics.precision_score(test_Y, fcst_test)\n",
    "\n",
    "test_auc = metrics.roc_auc_score(test_Y, clf.predict_proba(test_X)[:,1])\n",
    "\n",
    "print('Train accuracy:',train_accuracy, '\\nTest accuracy:', test_accuracy, '\\nDifference:', \n",
    "     train_accuracy - test_accuracy)\n",
    "\n",
    "print('Train recall: ', train_recall, '\\nTest recall: ', test_recall, '\\nDifference: ', train_recall-test_recall)\n",
    "\n",
    "print('\\nTrain precision:',train_precision, '\\nTest precision:', test_precision, '\\nDifference:', \n",
    "     train_precision - test_precision)\n",
    "\n",
    "print('\\nTest AUC: ', test_auc)"
   ]
  },
  {
   "cell_type": "code",
   "execution_count": null,
   "metadata": {
    "collapsed": true
   },
   "outputs": [],
   "source": [
    "#Tune the decision tree by testing hyperparameters\n",
    "min_samples_split_values = np.linspace(200, 1000, 10, dtype = int)\n",
    "min_samples_leaf_values = np.linspace(50, 200, 10, dtype = int)"
   ]
  },
  {
   "cell_type": "code",
   "execution_count": null,
   "metadata": {},
   "outputs": [],
   "source": [
    "import matplotlib.pyplot as plt\n",
    "\n",
    "for leaf in min_samples_leaf_values:\n",
    "    accuracy = []\n",
    "    \n",
    "    for split in min_samples_split_values:\n",
    "        \n",
    "        clf = tree.DecisionTreeClassifier(criterion='entropy', min_samples_split = split, min_samples_leaf = leaf)\n",
    "        \n",
    "        clf.fit(train_X, train_Y)\n",
    "        \n",
    "        fcst_tests = clf.predict(test_X)\n",
    "        \n",
    "        accuracy.append(metrics.accuracy_score(test_Y, fcst_tests))\n",
    " \n",
    "    plt.plot(min_samples_split_values, accuracy, label = str(leaf) + ' min leaf')\n",
    "    plt.xlabel('min_samples_split')\n",
    "    plt.ylabel('accuracy')\n",
    "    plt.legend(loc=\"lower right\")"
   ]
  },
  {
   "cell_type": "code",
   "execution_count": null,
   "metadata": {},
   "outputs": [],
   "source": [
    "index_max_accuracy = accuracy.index(max(accuracy))\n",
    "\n",
    "best_samples_split = min_samples_split_values[index_max_accuracy]\n",
    "best_min_leaf = min_samples_leaf_values[index_max_accuracy]\n",
    "best_accuracy = accuracy[index_max_accuracy]\n",
    "\n",
    "print('Best Min Samples Split: ' + str(best_samples_split) + '\\nBest Min Leaf: ' + str(best_min_leaf) \n",
    "      + '\\nBest Accuracy: ' + str(best_accuracy))"
   ]
  },
  {
   "cell_type": "code",
   "execution_count": null,
   "metadata": {},
   "outputs": [],
   "source": [
    "#We didn't beat the base rate\n",
    "print('{0:.5f}'.format((base_rate - best_accuracy)))"
   ]
  },
  {
   "cell_type": "markdown",
   "metadata": {},
   "source": [
    "#### Conclusion"
   ]
  },
  {
   "cell_type": "markdown",
   "metadata": {},
   "source": [
    "Conclusion: I analyzed demographics and health features for predicting hospitalization in the next 6 months. \n",
    "Correlation analysis revealed the strongest positive linear relationship between the patient having kidney disease and hospitalization (22%). Other strongest factors were diabetes (18%), ischemic heart disease (17%), and heart failure (16%). \n",
    "\n",
    "Decision tree analysis uncovered the strongest non-linear relationships with such factors as Age, Gender, and Race.\n",
    "\n",
    "We defined the base rate to be the share of all patients who weren't hospitalized in the next 6 months. The base rate is very high at around 90%. The decision tree could not outperform the base rate implying we need a different model and probably more inputs. \n",
    "\n",
    "Next I will look into inputs varying over time such as hospital visits and medication intake in the 6 months prior to hospitalization."
   ]
  }
 ],
 "metadata": {
  "kernelspec": {
   "display_name": "Python 3",
   "language": "python",
   "name": "python3"
  },
  "language_info": {
   "codemirror_mode": {
    "name": "ipython",
    "version": 3
   },
   "file_extension": ".py",
   "mimetype": "text/x-python",
   "name": "python",
   "nbconvert_exporter": "python",
   "pygments_lexer": "ipython3",
   "version": "3.6.1"
  }
 },
 "nbformat": 4,
 "nbformat_minor": 2
}
