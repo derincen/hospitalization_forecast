{
 "cells": [
  {
   "cell_type": "markdown",
   "metadata": {},
   "source": [
    "Random Forest makes prediction based on individual outputs of many decision trees. The goal is to improve upon the original foreast that used a single decision tree and achieved an accuracy around 0.934."
   ]
  },
  {
   "cell_type": "code",
   "execution_count": 35,
   "metadata": {
    "collapsed": true
   },
   "outputs": [],
   "source": [
    "import pandas as pd"
   ]
  },
  {
   "cell_type": "code",
   "execution_count": 36,
   "metadata": {},
   "outputs": [],
   "source": [
    "#Read the data\n",
    "X_train = pd.read_csv('X_train_w_ID.csv', index_col=0)\n",
    "X_test = pd.read_csv('X_test_w_ID.csv', index_col = 0)\n",
    "Y_train = pd.read_csv('Y_train.csv', index_col = 0, header= None, names = ['Y'])\n",
    "Y_test = pd.read_csv('Y_test.csv', index_col = 0, header= None, names = ['Y'])"
   ]
  },
  {
   "cell_type": "code",
   "execution_count": 37,
   "metadata": {},
   "outputs": [],
   "source": [
    "#Remove patient ID from the training data\n",
    "x_train = X_train.drop(\"DESYNPUF_ID\",axis=1)"
   ]
  },
  {
   "cell_type": "code",
   "execution_count": 38,
   "metadata": {},
   "outputs": [
    {
     "data": {
      "text/plain": [
       "83270"
      ]
     },
     "execution_count": 38,
     "metadata": {},
     "output_type": "execute_result"
    }
   ],
   "source": [
    "x_train.shape[0]"
   ]
  },
  {
   "cell_type": "code",
   "execution_count": 56,
   "metadata": {},
   "outputs": [
    {
     "data": {
      "text/plain": [
       "27"
      ]
     },
     "execution_count": 56,
     "metadata": {},
     "output_type": "execute_result"
    }
   ],
   "source": [
    "x_test.shape[1]"
   ]
  },
  {
   "cell_type": "code",
   "execution_count": 40,
   "metadata": {},
   "outputs": [],
   "source": [
    "#Remove patient ID from testing set\n",
    "x_test = X_test.drop('DESYNPUF_ID',axis=1)"
   ]
  },
  {
   "cell_type": "code",
   "execution_count": 41,
   "metadata": {},
   "outputs": [
    {
     "name": "stderr",
     "output_type": "stream",
     "text": [
      "/Users/ksenia/anaconda/envs/py36/lib/python3.6/site-packages/ipykernel_launcher.py:6: DataConversionWarning: A column-vector y was passed when a 1d array was expected. Please change the shape of y to (n_samples,), for example using ravel().\n",
      "  \n"
     ]
    }
   ],
   "source": [
    "from sklearn.ensemble import RandomForestClassifier\n",
    "from sklearn.tree import DecisionTreeClassifier\n",
    "\n",
    "#Build a random forest using 100 estimators for testing purposes\n",
    "rf_def = RandomForestClassifier(criterion='entropy', n_estimators=100)\n",
    "rf_def = rf_def.fit(x_train, Y_train)\n",
    "rf_pred = rf_def.predict_proba(x_test)\n"
   ]
  },
  {
   "cell_type": "code",
   "execution_count": 42,
   "metadata": {
    "collapsed": true
   },
   "outputs": [],
   "source": [
    "# Function to print ROC curves. \n",
    "from sklearn.metrics import roc_curve, auc\n",
    "\n",
    "def plotUnivariateROC(preds, truth, label_string):\n",
    "    '''\n",
    "    preds is an nx1 array of predictions\n",
    "    truth is an nx1 array of truth labels\n",
    "    label_string is text to go into the plotting label\n",
    "    '''\n",
    "    #Student input code here\n",
    "    #1. call the roc_curve function to get the ROC X and Y values\n",
    "    fpr, tpr, thresholds = roc_curve(truth, preds)\n",
    "    #2. Input fpr and tpr into the auc function to get the AUC\n",
    "    roc_auc = auc(fpr, tpr)\n",
    "    \n",
    "    #we are doing this as a special case because we are sending unfitted predictions\n",
    "    #into the function\n",
    "    if roc_auc < 0.5:\n",
    "        fpr, tpr, thresholds = roc_curve(truth, -1 * preds)\n",
    "        roc_auc = auc(fpr, tpr)\n",
    "\n",
    "    #chooses a random color for plotting\n",
    "    c = (np.random.rand(), np.random.rand(), np.random.rand())\n",
    "\n",
    "    #create a plot and set some options\n",
    "    plt.plot(fpr, tpr, color = c, label = label_string + ' (AUC = %0.3f)' % roc_auc)\n",
    "    \n",
    "\n",
    "    plt.plot([0, 1], [0, 1], 'k--')\n",
    "    plt.xlim([0.0, 1.0])\n",
    "    plt.ylim([0.0, 1.0])\n",
    "    plt.xlabel('FPR')\n",
    "    plt.ylabel('TPR')\n",
    "    plt.title('ROC')\n",
    "    plt.legend(loc=\"lower right\")\n",
    "    \n",
    "    return roc_auc"
   ]
  },
  {
   "cell_type": "code",
   "execution_count": 43,
   "metadata": {},
   "outputs": [
    {
     "data": {
      "image/png": "[encoded data removed]",
      "text/plain": [
       "<matplotlib.figure.Figure at 0x1109d12e8>"
      ]
     },
     "metadata": {},
     "output_type": "display_data"
    }
   ],
   "source": [
    "from sklearn.metrics import roc_curve, auc, roc_auc_score\n",
    "import numpy as np\n",
    "import matplotlib.pyplot as plt\n",
    "\n",
    "plotUnivariateROC(rf_pred[:,1], Y_test, 'RF')\n",
    "plt.show()"
   ]
  },
  {
   "cell_type": "markdown",
   "metadata": {},
   "source": [
    "A simple Random Forest already outperformed the original decision tree forecast by producing an AUC of 0.953."
   ]
  },
  {
   "cell_type": "markdown",
   "metadata": {},
   "source": [
    "Next I will use use out-of-bag error to tune parameters for the random forest and further improve accuracy."
   ]
  },
  {
   "cell_type": "code",
   "execution_count": 44,
   "metadata": {},
   "outputs": [
    {
     "data": {
      "image/png": "[encoded data removed]",
      "text/plain": [
       "<matplotlib.figure.Figure at 0x110f7de10>"
      ]
     },
     "metadata": {},
     "output_type": "display_data"
    }
   ],
   "source": [
    "#This is just to show that OOB method produces similar results \n",
    "rf_def = RandomForestClassifier(criterion='entropy', n_estimators=100, oob_score=True)\n",
    "rf_def = rf_def.fit(x_train, Y_train.values.ravel())\n",
    "rf_pred_test = rf_def.predict_proba(x_test)\n",
    "rf_pred_train = rf_def.predict_proba(x_train)\n",
    "\n",
    "plotUnivariateROC(rf_pred_test[:,1], Y_test, 'Test')\n",
    "plotUnivariateROC( rf_pred_train[:,1],Y_train, 'Train')\n",
    "plotUnivariateROC(rf_def.oob_decision_function_[:,1], Y_train, 'OOB')\n",
    "plt.show()"
   ]
  },
  {
   "cell_type": "markdown",
   "metadata": {},
   "source": [
    "Now use OOB to perform model selection."
   ]
  },
  {
   "cell_type": "code",
   "execution_count": 45,
   "metadata": {},
   "outputs": [],
   "source": [
    "#Select different estimator sizes and number of features\n",
    "n_est = [50, 100, 200, 500, 1000]\n",
    "m_feat = [1, 3, 6, 11]\n",
    "\n",
    "aucs_oob = {}\n",
    "aucs_test = {}\n",
    "\n",
    "for m in m_feat:\n",
    "    aucs_oob[m] = []\n",
    "    aucs_test[m] = []\n",
    "    for n in n_est:\n",
    "        rf_oob = RandomForestClassifier(criterion='entropy', n_estimators=n, max_features=m, oob_score=True)\n",
    "        rf_oob = rf_oob.fit(x_train, Y_train.values.ravel())\n",
    "        aucs_oob[m].append(roc_auc_score(Y_train, rf_oob.oob_decision_function_[:,1]))\n",
    "        aucs_test[m].append(roc_auc_score(Y_test, rf_oob.predict_proba(x_test)[:,1]))"
   ]
  },
  {
   "cell_type": "code",
   "execution_count": 46,
   "metadata": {},
   "outputs": [
    {
     "data": {
      "image/png": "[encoded data removed]",
      "text/plain": [
       "<matplotlib.figure.Figure at 0x1110cb4e0>"
      ]
     },
     "metadata": {},
     "output_type": "display_data"
    }
   ],
   "source": [
    "#Plot results\n",
    "\n",
    "x = np.log2(np.array(n_est))\n",
    "for m in m_feat:\n",
    "    plt.plot(x, aucs_oob[m], label='max_feat={}'.format(m))\n",
    "    \n",
    "plt.title('OOB AUC by Max Feat and N-Estimators')\n",
    "plt.xlabel('Log2(N-Estimators)')\n",
    "plt.ylabel('OOB-AUC')\n",
    "plt.legend(loc=4, ncol=2, prop={'size':10})\n",
    "plt.show()"
   ]
  },
  {
   "cell_type": "markdown",
   "metadata": {},
   "source": [
    "And model with 11 max features and 1000 estimators produced the highest accuracy.\n",
    "\n",
    "Based on the chart, further increasing number of estimators might slowly continue improving the results, but the improvement may be only marginal. On the other hand, increasing number of features may be more promising."
   ]
  },
  {
   "cell_type": "code",
   "execution_count": 47,
   "metadata": {},
   "outputs": [],
   "source": [
    "#Build a random forest with 12 max features and 1000 estimators.\n",
    "big_rf = RandomForestClassifier(criterion='entropy', max_features = 12, n_estimators=1000)\n",
    "big_rf = big_rf.fit(x_train, Y_train.values.ravel())"
   ]
  },
  {
   "cell_type": "code",
   "execution_count": 48,
   "metadata": {},
   "outputs": [
    {
     "name": "stdout",
     "output_type": "stream",
     "text": [
      "Train accuracy: 0.999951963492 \n",
      "Test accuracy: 0.948409410239 \n",
      "Difference: 0.0515425532534\n",
      "\n",
      "Train recall:  0.999536446865 \n",
      "Test recall:  0.572705397044 \n",
      "Difference:  0.426831049822\n"
     ]
    }
   ],
   "source": [
    "#Calculate accuracy and recall\n",
    "from sklearn import metrics\n",
    "\n",
    "#Predicting train_df\n",
    "fcst_train = big_rf.predict(x_train)\n",
    "\n",
    "#Predicting test_df\n",
    "fcst_test = big_rf.predict(x_test)\n",
    "\n",
    "train_accuracy = big_rf.score(x_train, Y_train)\n",
    "test_accuracy = big_rf.score(x_test, Y_test)\n",
    "\n",
    "train_recall = metrics.recall_score(Y_train, fcst_train)\n",
    "test_recall = metrics.recall_score(Y_test, fcst_test)\n",
    "\n",
    "print('Train accuracy:',train_accuracy, '\\nTest accuracy:', test_accuracy, '\\nDifference:', \n",
    "     train_accuracy - test_accuracy)\n",
    "\n",
    "print('\\nTrain recall: ', train_recall, '\\nTest recall: ', test_recall, '\\nDifference: ', train_recall-test_recall)"
   ]
  },
  {
   "cell_type": "code",
   "execution_count": 49,
   "metadata": {},
   "outputs": [
    {
     "data": {
      "text/plain": [
       "array([1, 1, 1, ..., 1, 1, 1])"
      ]
     },
     "execution_count": 49,
     "metadata": {},
     "output_type": "execute_result"
    }
   ],
   "source": [
    "sample_weight = np.array([1 if i == 0 else 9 for i in Y_train.values])\n",
    "\n",
    "sample_weight"
   ]
  },
  {
   "cell_type": "markdown",
   "metadata": {},
   "source": [
    "The Recall performance was below the simple Decision Tree we tested previously which produced a 70% recall. Now I'll retrain the Random Forest to determine the best parameters for maximizing Recall instead of accuracy.\n",
    "\n",
    "I'll also try rebalancing classes to reflect on higher prevalence of negative target in the dataset for improving Recall."
   ]
  },
  {
   "cell_type": "code",
   "execution_count": 50,
   "metadata": {},
   "outputs": [],
   "source": [
    "#Select different estimator sizes and number of features\n",
    "n_est = [50, 100, 200, 500, 1000]\n",
    "m_feat = [1, 3, 6, 11]\n",
    "\n",
    "recall_oob = {}\n",
    "recall_test = {}\n",
    "\n",
    "sample_weight = np.array([1 if i == 0 else 9 for i in Y_train.values])\n",
    "\n",
    "for m in m_feat:\n",
    "    recall_oob[m] = []\n",
    "    recall_test[m] = []\n",
    "    for n in n_est:\n",
    "        rf_oob = RandomForestClassifier(criterion='entropy', n_estimators=n, max_features=m, oob_score=True)\n",
    "        rf_oob = rf_oob.fit(x_train, Y_train.values.ravel(), sample_weight=sample_weight)\n",
    "        recall_oob[m].append(metrics.recall_score(Y_train, rf_oob.predict(x_train)))\n",
    "        recall_test[m].append(metrics.recall_score(Y_test, rf_oob.predict(x_test)))"
   ]
  },
  {
   "cell_type": "code",
   "execution_count": 51,
   "metadata": {},
   "outputs": [
    {
     "data": {
      "image/png": "[encoded data removed]",
      "text/plain": [
       "<matplotlib.figure.Figure at 0x113f99940>"
      ]
     },
     "metadata": {},
     "output_type": "display_data"
    }
   ],
   "source": [
    "#Plot results\n",
    "\n",
    "x = np.log2(np.array(n_est))\n",
    "for m in m_feat:\n",
    "    plt.plot(x, recall_oob[m], label='max_feat={}'.format(m))\n",
    "    \n",
    "plt.title('OOB Recall by Max Feat and N-Estimators')\n",
    "plt.xlabel('Log2(N-Estimators)')\n",
    "plt.ylabel('OOB-Recall')\n",
    "plt.legend(loc=4, ncol=2, prop={'size':10})\n",
    "plt.show()"
   ]
  },
  {
   "cell_type": "code",
   "execution_count": 52,
   "metadata": {},
   "outputs": [
    {
     "data": {
      "image/png": "[encoded data removed]",
      "text/plain": [
       "<matplotlib.figure.Figure at 0x112a4dfd0>"
      ]
     },
     "metadata": {},
     "output_type": "display_data"
    }
   ],
   "source": [
    "x = np.log2(np.array(n_est))\n",
    "for m in m_feat:\n",
    "    plt.plot(x, recall_test[m], label='max_feat={}'.format(m))\n",
    "    \n",
    "plt.title('Test Recall by Max Feat and N-Estimators')\n",
    "plt.xlabel('Log2(N-Estimators)')\n",
    "plt.ylabel('Recall')\n",
    "plt.legend(loc=4, ncol=2, prop={'size':10})\n",
    "plt.show()"
   ]
  },
  {
   "cell_type": "code",
   "execution_count": 53,
   "metadata": {
    "collapsed": true
   },
   "outputs": [],
   "source": [
    "#Build a random forest based on the parameter tuning above\n",
    "big_rf = RandomForestClassifier(criterion='entropy', max_features = None, n_estimators=100)\n",
    "big_rf = big_rf.fit(x_train, Y_train.values.ravel())"
   ]
  },
  {
   "cell_type": "code",
   "execution_count": 54,
   "metadata": {},
   "outputs": [
    {
     "name": "stdout",
     "output_type": "stream",
     "text": [
      "Train accuracy: 0.999927945238 \n",
      "Test accuracy: 0.959181467738 \n",
      "Difference: 0.0407464775005\n",
      "\n",
      "Train recall:  0.999304670298 \n",
      "Test recall:  0.675833619801 \n",
      "Difference:  0.323471050497\n"
     ]
    }
   ],
   "source": [
    "#Calculate accuracy and recall\n",
    "from sklearn import metrics\n",
    "\n",
    "#Predicting train_df\n",
    "fcst_train = big_rf.predict(x_train)\n",
    "\n",
    "#Predicting test_df\n",
    "fcst_test = big_rf.predict(x_test)\n",
    "\n",
    "train_accuracy = big_rf.score(x_train, Y_train)\n",
    "test_accuracy = big_rf.score(x_test, Y_test)\n",
    "\n",
    "train_recall = metrics.recall_score(Y_train, fcst_train)\n",
    "test_recall = metrics.recall_score(Y_test, fcst_test)\n",
    "\n",
    "print('Train accuracy:',train_accuracy, '\\nTest accuracy:', test_accuracy, '\\nDifference:', \n",
    "     train_accuracy - test_accuracy)\n",
    "\n",
    "print('\\nTrain recall: ', train_recall, '\\nTest recall: ', test_recall, '\\nDifference: ', train_recall-test_recall)"
   ]
  },
  {
   "cell_type": "markdown",
   "metadata": {},
   "source": [
    "Setting max_teatures to None improved recall. I will perform grid search next to further tune the parameters."
   ]
  },
  {
   "cell_type": "code",
   "execution_count": null,
   "metadata": {},
   "outputs": [
    {
     "name": "stderr",
     "output_type": "stream",
     "text": [
      "/Users/ksenia/anaconda/envs/py36/lib/python3.6/site-packages/sklearn/ensemble/forest.py:439: UserWarning: Some inputs do not have OOB scores. This probably means too few trees were used to compute any reliable oob estimates.\n",
      "  warn(\"Some inputs do not have OOB scores. \"\n",
      "/Users/ksenia/anaconda/envs/py36/lib/python3.6/site-packages/sklearn/ensemble/forest.py:444: RuntimeWarning: invalid value encountered in true_divide\n",
      "  predictions[k].sum(axis=1)[:, np.newaxis])\n",
      "/Users/ksenia/anaconda/envs/py36/lib/python3.6/site-packages/sklearn/ensemble/forest.py:439: UserWarning: Some inputs do not have OOB scores. This probably means too few trees were used to compute any reliable oob estimates.\n",
      "  warn(\"Some inputs do not have OOB scores. \"\n",
      "/Users/ksenia/anaconda/envs/py36/lib/python3.6/site-packages/sklearn/ensemble/forest.py:444: RuntimeWarning: invalid value encountered in true_divide\n",
      "  predictions[k].sum(axis=1)[:, np.newaxis])\n",
      "/Users/ksenia/anaconda/envs/py36/lib/python3.6/site-packages/sklearn/ensemble/forest.py:439: UserWarning: Some inputs do not have OOB scores. This probably means too few trees were used to compute any reliable oob estimates.\n",
      "  warn(\"Some inputs do not have OOB scores. \"\n",
      "/Users/ksenia/anaconda/envs/py36/lib/python3.6/site-packages/sklearn/ensemble/forest.py:444: RuntimeWarning: invalid value encountered in true_divide\n",
      "  predictions[k].sum(axis=1)[:, np.newaxis])\n",
      "/Users/ksenia/anaconda/envs/py36/lib/python3.6/site-packages/sklearn/ensemble/forest.py:439: UserWarning: Some inputs do not have OOB scores. This probably means too few trees were used to compute any reliable oob estimates.\n",
      "  warn(\"Some inputs do not have OOB scores. \"\n",
      "/Users/ksenia/anaconda/envs/py36/lib/python3.6/site-packages/sklearn/ensemble/forest.py:444: RuntimeWarning: invalid value encountered in true_divide\n",
      "  predictions[k].sum(axis=1)[:, np.newaxis])\n",
      "/Users/ksenia/anaconda/envs/py36/lib/python3.6/site-packages/sklearn/ensemble/forest.py:439: UserWarning: Some inputs do not have OOB scores. This probably means too few trees were used to compute any reliable oob estimates.\n",
      "  warn(\"Some inputs do not have OOB scores. \"\n",
      "/Users/ksenia/anaconda/envs/py36/lib/python3.6/site-packages/sklearn/ensemble/forest.py:444: RuntimeWarning: invalid value encountered in true_divide\n",
      "  predictions[k].sum(axis=1)[:, np.newaxis])\n",
      "/Users/ksenia/anaconda/envs/py36/lib/python3.6/site-packages/sklearn/ensemble/forest.py:439: UserWarning: Some inputs do not have OOB scores. This probably means too few trees were used to compute any reliable oob estimates.\n",
      "  warn(\"Some inputs do not have OOB scores. \"\n",
      "/Users/ksenia/anaconda/envs/py36/lib/python3.6/site-packages/sklearn/ensemble/forest.py:444: RuntimeWarning: invalid value encountered in true_divide\n",
      "  predictions[k].sum(axis=1)[:, np.newaxis])\n",
      "/Users/ksenia/anaconda/envs/py36/lib/python3.6/site-packages/sklearn/ensemble/forest.py:439: UserWarning: Some inputs do not have OOB scores. This probably means too few trees were used to compute any reliable oob estimates.\n",
      "  warn(\"Some inputs do not have OOB scores. \"\n",
      "/Users/ksenia/anaconda/envs/py36/lib/python3.6/site-packages/sklearn/ensemble/forest.py:444: RuntimeWarning: invalid value encountered in true_divide\n",
      "  predictions[k].sum(axis=1)[:, np.newaxis])\n",
      "/Users/ksenia/anaconda/envs/py36/lib/python3.6/site-packages/sklearn/ensemble/forest.py:439: UserWarning: Some inputs do not have OOB scores. This probably means too few trees were used to compute any reliable oob estimates.\n",
      "  warn(\"Some inputs do not have OOB scores. \"\n",
      "/Users/ksenia/anaconda/envs/py36/lib/python3.6/site-packages/sklearn/ensemble/forest.py:444: RuntimeWarning: invalid value encountered in true_divide\n",
      "  predictions[k].sum(axis=1)[:, np.newaxis])\n",
      "/Users/ksenia/anaconda/envs/py36/lib/python3.6/site-packages/sklearn/ensemble/forest.py:439: UserWarning: Some inputs do not have OOB scores. This probably means too few trees were used to compute any reliable oob estimates.\n",
      "  warn(\"Some inputs do not have OOB scores. \"\n",
      "/Users/ksenia/anaconda/envs/py36/lib/python3.6/site-packages/sklearn/ensemble/forest.py:444: RuntimeWarning: invalid value encountered in true_divide\n",
      "  predictions[k].sum(axis=1)[:, np.newaxis])\n",
      "/Users/ksenia/anaconda/envs/py36/lib/python3.6/site-packages/sklearn/ensemble/forest.py:439: UserWarning: Some inputs do not have OOB scores. This probably means too few trees were used to compute any reliable oob estimates.\n",
      "  warn(\"Some inputs do not have OOB scores. \"\n",
      "/Users/ksenia/anaconda/envs/py36/lib/python3.6/site-packages/sklearn/ensemble/forest.py:444: RuntimeWarning: invalid value encountered in true_divide\n",
      "  predictions[k].sum(axis=1)[:, np.newaxis])\n"
     ]
    }
   ],
   "source": [
    "from sklearn.grid_search import GridSearchCV\n",
    "from sklearn.ensemble import RandomForestClassifier\n",
    "\n",
    "rfc = RandomForestClassifier(criterion='entropy', max_features= 'sqrt', n_estimators=200, oob_score = True) \n",
    "\n",
    "param_grid = { \n",
    "    'max_depth' : [30, 100, None],\n",
    "    'n_estimators': [10, 20, 50, 200],\n",
    "    'max_features': [None, 10, 20, 'auto'],\n",
    "    'min_samples_leaf' : [2, 50, 100]   \n",
    "}\n",
    "\n",
    "CV_rfc = GridSearchCV(estimator=rfc, scoring='recall', param_grid=param_grid, cv= 5)\n",
    "CV_rfc.fit(x_train, Y_train.values.ravel())\n",
    "\n",
    "print(CV_rfc.best_params_)"
   ]
  },
  {
   "cell_type": "code",
   "execution_count": 71,
   "metadata": {},
   "outputs": [],
   "source": [
    "#Build a random forest based on the parameter tuning above\n",
    "rf = RandomForestClassifier(criterion='entropy', max_features = None, n_estimators=50, min_samples_leaf=2)\n",
    "rf = rf.fit(x_train, Y_train.values.ravel())"
   ]
  },
  {
   "cell_type": "code",
   "execution_count": 75,
   "metadata": {},
   "outputs": [
    {
     "name": "stdout",
     "output_type": "stream",
     "text": [
      "Train accuracy: 0.998186621833 \n",
      "Test accuracy: 0.958424901827 \n",
      "Difference: 0.039761720006\n",
      "\n",
      "Train recall:  0.983427975432 \n",
      "Test recall:  0.669645926435 \n",
      "Difference:  0.313782048996\n",
      "\n",
      "Train precision: 0.9990581587 \n",
      "Test precision: 0.909855207847 \n",
      "Difference: 0.0892029508535\n",
      "\n",
      "Test AUC:  0.980369916884\n"
     ]
    }
   ],
   "source": [
    "#Calculate accuracy and recall\n",
    "from sklearn import metrics\n",
    "\n",
    "#Predicting train_df\n",
    "fcst_train = rf.predict(x_train)\n",
    "\n",
    "#Predicting test_df\n",
    "fcst_test = rf.predict(x_test)\n",
    "\n",
    "train_accuracy = rf.score(x_train, Y_train)\n",
    "test_accuracy = rf.score(x_test, Y_test)\n",
    "\n",
    "train_recall = metrics.recall_score(Y_train, fcst_train)\n",
    "test_recall = metrics.recall_score(Y_test, fcst_test)\n",
    "\n",
    "train_precision = metrics.precision_score(Y_train, fcst_train)\n",
    "test_precision = metrics.precision_score(Y_test, fcst_test)\n",
    "\n",
    "test_auc = roc_auc_score(Y_test, rf.predict_proba(x_test)[:,1])\n",
    "\n",
    "print('Train accuracy:',train_accuracy, '\\nTest accuracy:', test_accuracy, '\\nDifference:', \n",
    "     train_accuracy - test_accuracy)\n",
    "\n",
    "print('\\nTrain recall: ', train_recall, '\\nTest recall: ', test_recall, '\\nDifference: ', train_recall-test_recall)\n",
    "\n",
    "print('\\nTrain precision:',train_precision, '\\nTest precision:', test_precision, '\\nDifference:', \n",
    "     train_precision - test_precision)\n",
    "\n",
    "print('\\nTest AUC: ', test_auc)\n",
    "\n"
   ]
  },
  {
   "cell_type": "code",
   "execution_count": 69,
   "metadata": {},
   "outputs": [
    {
     "name": "stdout",
     "output_type": "stream",
     "text": [
      "0.914804469274\n"
     ]
    }
   ],
   "source": [
    "test_precision = metrics.precision_score(Y_test, fcst_test)\n",
    "print(test_precision)"
   ]
  },
  {
   "cell_type": "code",
   "execution_count": null,
   "metadata": {},
   "outputs": [],
   "source": [
    "#Visualize feature importance\n",
    "import matplotlib.pyplot as plt\n",
    "%matplotlib inline\n",
    "\n",
    "importances = rf.feature_importances_\n",
    "#print(len(importances))\n",
    "\n",
    "labels = x_train.columns\n",
    "\n",
    "assert(len(importances) == len(labels))\n",
    "\n",
    "print(importances)\n",
    "\n",
    "#Sort and order importances in descending order\n",
    "importances.sort()\n",
    "importances = importances[::-1]\n",
    "\n",
    "N = len(importances)\n",
    "xx = np.linspace(0, 1, N)\n",
    "plt.figure(figsize=(20,10))\n",
    "plt.bar(xx, importances, width=1/N/1.5)\n",
    "plt.xticks(xx, labels, rotation='vertical')\n",
    "plt.title('Features by importance')\n",
    "\n",
    "plt.grid(True)"
   ]
  },
  {
   "cell_type": "code",
   "execution_count": null,
   "metadata": {
    "collapsed": true
   },
   "outputs": [],
   "source": [
    "#Function to visualize classification\n",
    "import numpy as np\n",
    "import matplotlib.pyplot as plt\n",
    "%matplotlib inline\n",
    "\n",
    "def visualize_classifier(model, X, y, ax=None, cmap='rainbow'):\n",
    "    ax = ax or plt.gca()\n",
    "    \n",
    "    # Plot the training points\n",
    "    ax.scatter(X[:, 0], X[:, 1], c=y, s=30, cmap=cmap,\n",
    "               clim=(y.min(), y.max()), zorder=3)\n",
    "    ax.axis('tight')\n",
    "    ax.axis('off')\n",
    "    xlim = ax.get_xlim()\n",
    "    ylim = ax.get_ylim()\n",
    "    \n",
    "    # fit the estimator\n",
    "    model.fit(X, y)\n",
    "    xx, yy = np.meshgrid(np.linspace(*xlim, num=200),\n",
    "                         np.linspace(*ylim, num=200))\n",
    "    Z = model.predict(np.c_[xx.ravel(), yy.ravel()]).reshape(xx.shape)\n",
    "\n",
    "    # Create a color plot with the results\n",
    "    n_classes = len(np.unique(y))\n",
    "    contours = ax.contourf(xx, yy, Z, alpha=0.3,\n",
    "                           levels=np.arange(n_classes + 1) - 0.5,\n",
    "                           cmap=cmap, clim=(y.min(), y.max()),\n",
    "                           zorder=1)\n",
    "\n",
    "    ax.set(xlim=xlim, ylim=ylim)\n",
    "    \n",
    "    "
   ]
  },
  {
   "cell_type": "code",
   "execution_count": null,
   "metadata": {},
   "outputs": [],
   "source": [
    "from sklearn.ensemble import RandomForestClassifier\n",
    "rf = RandomForestClassifier(criterion='entropy', max_features = None, n_estimators=50, min_samples_leaf=2)\n",
    "X = x_train[['unique_ip_dt_mm', '#Rx_mm']].as_matrix()\n",
    "y = Y_train.as_matrix()\n",
    "\n"
   ]
  },
  {
   "cell_type": "code",
   "execution_count": null,
   "metadata": {},
   "outputs": [],
   "source": [
    "x_test.columns"
   ]
  },
  {
   "cell_type": "code",
   "execution_count": null,
   "metadata": {},
   "outputs": [],
   "source": [
    "visualize_classifier(rf, X, y)"
   ]
  },
  {
   "cell_type": "code",
   "execution_count": null,
   "metadata": {
    "collapsed": true
   },
   "outputs": [],
   "source": []
  }
 ],
 "metadata": {
  "kernelspec": {
   "display_name": "Python 3",
   "language": "python",
   "name": "python3"
  },
  "language_info": {
   "codemirror_mode": {
    "name": "ipython",
    "version": 3
   },
   "file_extension": ".py",
   "mimetype": "text/x-python",
   "name": "python",
   "nbconvert_exporter": "python",
   "pygments_lexer": "ipython3",
   "version": "3.6.1"
  }
 },
 "nbformat": 4,
 "nbformat_minor": 2
}
